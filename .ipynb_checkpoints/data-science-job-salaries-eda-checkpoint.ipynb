{
 "cells": [
  {
   "cell_type": "markdown",
   "metadata": {},
   "source": [
    "<div style = \"display: fill;\n",
    "              border-radius: 5px;\n",
    "              background-color: #5997e9;\">\n",
    "    <h1 style = \"padding: 15px; \n",
    "                 color: White;\n",
    "                 text-align:center;\n",
    "                 font-family: Trebuchet MS;\">Data Science Salaries\n",
    "    </h1>\n",
    "</div>\n",
    "\n",
    "<div style=\"width:100%;text-align: center;\"> \n",
    "    <img align=middle src=\"https://miro.medium.com/max/993/1*mgXvzNcwfpnBawI6XTkVRg.png\" alt=\"Data Science\" style=\"height:500px;margin-top:2rem;\">\n",
    "</div>"
   ]
  },
  {
   "cell_type": "markdown",
   "metadata": {},
   "source": [
    "<div style = \"display: fill;\n",
    "              border-radius: 5px;\n",
    "              background-color: #00356b;\">\n",
    "    <h2 style = \"padding: 15px; \n",
    "                 color: White;\n",
    "                 text-align: left;\n",
    "                 font-family: Trebuchet MS;\">Table of Contents\n",
    "    </h2>\n",
    "</div>\n",
    "\n",
    "\n",
    "\n",
    "* [<span style=\"font-family: Trebuchet MS; font-size:15px;\">1. Imports</span>](#imports)\n",
    "* [<span style=\"font-family: Trebuchet MS; font-size:15px;\">2. Plot Configuration</span>](#plot-configuration)\n",
    "* [<span style=\"font-family: Trebuchet MS; font-size:15px;\">3. Loading Dataset</span>](#loading-dataset)\n",
    "* [<span style=\"font-family: Trebuchet MS; font-size:15px;\">4. Understanding the Data</span>](#understanding-the-data)\n",
    "    * [<span style=\"font-family: Trebuchet MS; font-size:15px;\">4.1 Checking Null Values</span>](#checking-null-values)\n",
    "* [<span style=\"font-family: Trebuchet MS; font-size:15px;\">5. Exploratory Data Analysis</span>](#exploratory-data-analysis)\n",
    "    * [<span style=\"font-family: Trebuchet MS; font-size:15px;\">5.1 Univariate Analysis</span>](#univariate-analysis)\n",
    "        * [<span style=\"font-family: Trebuchet MS; font-size:15px;\">5.1.1 Work Year</span>](#work_year)\n",
    "        * [<span style=\"font-family: Trebuchet MS; font-size:15px;\">5.1.2 Experience Level</span>](#experience_level)\n",
    "        * [<span style=\"font-family: Trebuchet MS; font-size:15px;\">5.1.3 Employment Type</span>](#employment_type)\n",
    "        * [<span style=\"font-family: Trebuchet MS; font-size:15px;\">5.1.4 Job Title</span>](#job_title)\n",
    "        * [<span style=\"font-family: Trebuchet MS; font-size:15px;\">5.1.5 Salary</span>](#salary)\n",
    "        * [<span style=\"font-family: Trebuchet MS; font-size:15px;\">5.1.6 Employee Residence</span>](#employee_residence)\n",
    "        * [<span style=\"font-family: Trebuchet MS; font-size:15px;\">5.1.7 Remote Ratio</span>](#remote_ratio)\n",
    "        * [<span style=\"font-family: Trebuchet MS; font-size:15px;\">5.1.8 Company Location</span>](#company_location)\n",
    "        * [<span style=\"font-family: Trebuchet MS; font-size:15px;\">5.1.9 Company Size</span>](#company_size)\n",
    "    * [<span style=\"font-family: Trebuchet MS; font-size:15px;\">5.2 Multivariate Analysis</span>](#multivariate-analysis)\n",
    "        * [<span style=\"font-family: Trebuchet MS; font-size:15px;\">5.2.1 Work Year and Salary</span>](#work_year-salary)\n",
    "        * [<span style=\"font-family: Trebuchet MS; font-size:15px;\">5.2.2 Experience Level and Salary</span>](#experience_level-salary)\n",
    "        * [<span style=\"font-family: Trebuchet MS; font-size:15px;\">5.2.3 Employment Type and Salary</span>](#employment_type-salary)\n",
    "        * [<span style=\"font-family: Trebuchet MS; font-size:15px;\">5.2.4 Job Title and Salary</span>](#job_title-salary)\n",
    "        * [<span style=\"font-family: Trebuchet MS; font-size:15px;\">5.2.5 Employee Residence and Salary</span>](#employee_residence-salary)\n",
    "        * [<span style=\"font-family: Trebuchet MS; font-size:15px;\">5.2.6 Remote Ratio and Salary</span>](#remote_ratio-salary)\n",
    "        * [<span style=\"font-family: Trebuchet MS; font-size:15px;\">5.2.7 Company Location and Salary</span>](#company_location-salary)\n",
    "        * [<span style=\"font-family: Trebuchet MS; font-size:15px;\">5.2.8 Company Size and Salary</span>](#company_size-salary)\n",
    "* [<span style=\"font-family: Trebuchet MS; font-size:15px;\">6. Conclusion</span>](#conclusion)"
   ]
  },
  {
   "cell_type": "markdown",
   "metadata": {},
   "source": [
    "<div id='imports'\n",
    "     style = \"display: fill;\n",
    "              border-radius: 5px;\n",
    "              background-color: #00356b;\">\n",
    "    <h2 style = \"padding: 15px; \n",
    "                 color: White;\n",
    "                 text-align: left;\n",
    "                 font-family: Trebuchet MS;\">1. Imports\n",
    "    </h2>\n",
    "</div>"
   ]
  },
  {
   "cell_type": "code",
   "execution_count": 140,
   "metadata": {
    "_kg_hide-output": false,
    "execution": {
     "iopub.execute_input": "2022-09-02T17:43:36.640750Z",
     "iopub.status.busy": "2022-09-02T17:43:36.640518Z",
     "iopub.status.idle": "2022-09-02T17:43:44.671584Z",
     "shell.execute_reply": "2022-09-02T17:43:44.670565Z",
     "shell.execute_reply.started": "2022-09-02T17:43:36.640727Z"
    }
   },
   "outputs": [],
   "source": [
    "%%capture\n",
    "!pip install country_converter\n",
    "import country_converter as coco\n",
    "import numpy as np\n",
    "import pandas as pd\n",
    "import matplotlib.pyplot as plt\n",
    "import seaborn as sns\n",
    "import warnings\n",
    "\n",
    "warnings.filterwarnings(\"ignore\")\n",
    "np.set_printoptions(precision=5)"
   ]
  },
  {
   "cell_type": "markdown",
   "metadata": {},
   "source": [
    "<div id='plot-configuration'\n",
    "     style = \"display: fill;\n",
    "              border-radius: 5px;\n",
    "              background-color: #00356b;\">\n",
    "    <h2 style = \"padding: 15px; \n",
    "                 color: White;\n",
    "                 text-align:left;\n",
    "                 font-family: Trebuchet MS;\">2. Plot Configuration\n",
    "    </h2>\n",
    "</div>"
   ]
  },
  {
   "cell_type": "code",
   "execution_count": 141,
   "metadata": {
    "execution": {
     "iopub.execute_input": "2022-09-02T17:43:44.673150Z",
     "iopub.status.busy": "2022-09-02T17:43:44.672842Z",
     "iopub.status.idle": "2022-09-02T17:43:44.681950Z",
     "shell.execute_reply": "2022-09-02T17:43:44.681099Z",
     "shell.execute_reply.started": "2022-09-02T17:43:44.673125Z"
    }
   },
   "outputs": [],
   "source": [
    "plt.rcParams['figure.dpi'] = 300\n",
    "plt.rcParams['savefig.dpi'] = 300\n",
    "font = {'family':'Helvetica, Ariel',\n",
    "        'weight':'normal',\n",
    "        'size':12}\n",
    "plt.rc('font', **font)\n",
    "sns.set(rc={\"figure.dpi\": 300, 'savefig.dpi': 300})\n",
    "sns.set_context('notebook')\n",
    "sns.set_style(\"ticks\")\n",
    "sns.set_palette(\"Accent\")\n",
    "FIG_FONT = dict(family=\"Helvetica, Ariel\", weight=\"bold\", color=\"#7f7f7f\")"
   ]
  },
  {
   "cell_type": "markdown",
   "metadata": {},
   "source": [
    "<div id='loading-dataset'\n",
    "     style = \"display: fill;\n",
    "              border-radius: 5px;\n",
    "              background-color: #00356b;\">\n",
    "    <h2 style = \"padding: 15px; \n",
    "                 color: White;\n",
    "                 text-align:left;\n",
    "                 font-family: Trebuchet MS;\">3. Loading Dataset\n",
    "    </h2>\n",
    "</div>\n",
    "Let's first check the dataset to get the first insight."
   ]
  },
  {
   "cell_type": "code",
   "execution_count": 1,
   "metadata": {
    "execution": {
     "iopub.execute_input": "2022-09-02T17:43:44.683258Z",
     "iopub.status.busy": "2022-09-02T17:43:44.683013Z",
     "iopub.status.idle": "2022-09-02T17:43:44.710062Z",
     "shell.execute_reply": "2022-09-02T17:43:44.709095Z",
     "shell.execute_reply.started": "2022-09-02T17:43:44.683236Z"
    }
   },
   "outputs": [
    {
     "ename": "NameError",
     "evalue": "name 'pd' is not defined",
     "output_type": "error",
     "traceback": [
      "\u001b[1;31m---------------------------------------------------------------------------\u001b[0m",
      "\u001b[1;31mNameError\u001b[0m                                 Traceback (most recent call last)",
      "Input \u001b[1;32mIn [1]\u001b[0m, in \u001b[0;36m<cell line: 1>\u001b[1;34m()\u001b[0m\n\u001b[1;32m----> 1\u001b[0m salaries \u001b[38;5;241m=\u001b[39m \u001b[43mpd\u001b[49m\u001b[38;5;241m.\u001b[39mread_csv(\u001b[38;5;124m\"\u001b[39m\u001b[38;5;124m../ds_salaries.csv\u001b[39m\u001b[38;5;124m\"\u001b[39m, index_col\u001b[38;5;241m=\u001b[39m\u001b[38;5;241m0\u001b[39m, encoding\u001b[38;5;241m=\u001b[39m\u001b[38;5;124m\"\u001b[39m\u001b[38;5;124mutf-8\u001b[39m\u001b[38;5;124m\"\u001b[39m)\n\u001b[0;32m      2\u001b[0m salaries\u001b[38;5;241m.\u001b[39mhead()\n",
      "\u001b[1;31mNameError\u001b[0m: name 'pd' is not defined"
     ]
    }
   ],
   "source": [
    "salaries = pd.read_csv(\"../ds_salaries.csv\", index_col=0, encoding=\"utf-8\")\n",
    "salaries.head()"
   ]
  },
  {
   "cell_type": "code",
   "execution_count": 143,
   "metadata": {
    "execution": {
     "iopub.execute_input": "2022-09-02T17:43:44.711632Z",
     "iopub.status.busy": "2022-09-02T17:43:44.711303Z",
     "iopub.status.idle": "2022-09-02T17:43:44.726241Z",
     "shell.execute_reply": "2022-09-02T17:43:44.724921Z",
     "shell.execute_reply.started": "2022-09-02T17:43:44.711599Z"
    }
   },
   "outputs": [],
   "source": [
    "salaries.info()"
   ]
  },
  {
   "cell_type": "markdown",
   "metadata": {},
   "source": [
    "<div id='understanding-the-data'\n",
    "     style = \"display: fill;\n",
    "              border-radius: 5px;\n",
    "              background-color: #00356b;\">\n",
    "    <h2 style = \"padding: 15px; \n",
    "                 color: White;\n",
    "                 text-align:left;\n",
    "                 font-family: Trebuchet MS;\">4. Understanding the Data\n",
    "    </h2>\n",
    "</div>\n",
    "\n",
    "Dataset consists of 11 features.\n",
    "1. **work_year**: The year the salary was paid.\n",
    "2. **experience_level**: The experience level in the job during the year.\n",
    "    - EN (Entry-level) / Junior\n",
    "    - MI (Mid-level) / Intermediate \n",
    "    - SE (Senior-level) / Expert\n",
    "    - EX (Expert-level) / Director\n",
    "3. **employment_type**: The type of employment for the role.\n",
    "    - PT (Part-time)\n",
    "    - FT (Full-time)\n",
    "    - CT (Contact)\n",
    "    - FL (Freelance)\n",
    "4. **job_title**: The role worked during the year.\n",
    "5. **salary**: The total gross salary amount paid.\n",
    "6. **salary_currency**: The currency of the salary paid as an ISO 4217 currency code.\n",
    "    - USD (United States Dollar)\n",
    "    - EUR (Euro)\n",
    "    - GBP (Great Britain Pound)\n",
    "    - ...\n",
    "7. **salary_in_usd**: The salary in USD(United States Dollars).\n",
    "8. **employee_residence**: Employee's primary country of residence in during the work year as ISO 3166 country code.\n",
    "    - DE (Germany)\n",
    "    - JP (Japan)\n",
    "    - GB (Great Britain)\n",
    "    - ...\n",
    "9. **remote_ratio**: The overall amount of work done remotely.\n",
    "    - 0 (No remote)\n",
    "    - 50 (Partially remote)\n",
    "    - 100 (Fully remote)\n",
    "10. **company_location**: The country of the employer's main office or contracting branch as an ISO 3166 country code.\n",
    "    - DE (Germany)\n",
    "    - JP (Japan)\n",
    "    - GB (Great Britain)\n",
    "    - ...\n",
    "11. **company_size**: The average number of people that worked for the company during the year.\n",
    "    - S (Small) (< 50)\n",
    "    - M (Medium) (50 < & > 250)\n",
    "    - L (Large) (> 250)"
   ]
  },
  {
   "cell_type": "markdown",
   "metadata": {},
   "source": [
    "I will try to analyze the salaries only in **USD**. Therefore, I will remove the **salary_currency** and **salary** columns. Also, change the name of the **salary_in_usd** column to just **salary**."
   ]
  },
  {
   "cell_type": "code",
   "execution_count": 144,
   "metadata": {
    "execution": {
     "iopub.execute_input": "2022-09-02T17:43:44.729271Z",
     "iopub.status.busy": "2022-09-02T17:43:44.727583Z",
     "iopub.status.idle": "2022-09-02T17:43:44.737426Z",
     "shell.execute_reply": "2022-09-02T17:43:44.736300Z",
     "shell.execute_reply.started": "2022-09-02T17:43:44.729235Z"
    }
   },
   "outputs": [],
   "source": [
    "salaries.drop(labels=[\"salary\", \"salary_currency\"], axis=1, inplace=True)\n",
    "salaries.rename(columns={\"salary_in_usd\": \"salary\"}, inplace=True)"
   ]
  },
  {
   "cell_type": "code",
   "execution_count": 145,
   "metadata": {
    "execution": {
     "iopub.execute_input": "2022-09-02T17:43:44.738967Z",
     "iopub.status.busy": "2022-09-02T17:43:44.738623Z",
     "iopub.status.idle": "2022-09-02T17:43:44.756184Z",
     "shell.execute_reply": "2022-09-02T17:43:44.755257Z",
     "shell.execute_reply.started": "2022-09-02T17:43:44.738942Z"
    }
   },
   "outputs": [],
   "source": [
    "salaries.head()"
   ]
  },
  {
   "cell_type": "markdown",
   "metadata": {},
   "source": [
    "<div id='checking-null-values'\n",
    "     style = \"display: fill;\n",
    "              border-radius: 5px;\n",
    "              background-color: #5997e9;\">\n",
    "    <h3 style = \"padding: 15px; \n",
    "                 color: White;\n",
    "                 text-align:left;\n",
    "                 font-family: Trebuchet MS;\">4.1 Checking Null Values\n",
    "    </h3>\n",
    "</div>\n",
    "\n",
    "First, let's check the dataset if it contains any null values."
   ]
  },
  {
   "cell_type": "code",
   "execution_count": 146,
   "metadata": {
    "execution": {
     "iopub.execute_input": "2022-09-02T17:43:44.757389Z",
     "iopub.status.busy": "2022-09-02T17:43:44.757166Z",
     "iopub.status.idle": "2022-09-02T17:43:44.772691Z",
     "shell.execute_reply": "2022-09-02T17:43:44.771538Z",
     "shell.execute_reply.started": "2022-09-02T17:43:44.757367Z"
    }
   },
   "outputs": [],
   "source": [
    "salaries.isna().sum()"
   ]
  },
  {
   "cell_type": "markdown",
   "metadata": {},
   "source": [
    "There are no null values in the dataset; therefore, we can proceed to exploratory data analysis without any extra steps."
   ]
  },
  {
   "cell_type": "markdown",
   "metadata": {},
   "source": [
    "<div id='exploratory-data-analysis'\n",
    "     style = \"display: fill;\n",
    "              border-radius: 5px;\n",
    "              background-color: #00356b;\">\n",
    "    <h2 style = \"padding: 15px; \n",
    "                 color: White;\n",
    "                 text-align:left;\n",
    "                 font-family: Trebuchet MS;\">5. Exploratory Data Analysis\n",
    "    </h2>\n",
    "</div>"
   ]
  },
  {
   "cell_type": "markdown",
   "metadata": {},
   "source": [
    "<div id='univariate-analysis'\n",
    "     style = \"display: fill;\n",
    "              border-radius: 5px;\n",
    "              background-color: #5997e9;\">\n",
    "    <h3 style = \"padding: 15px; \n",
    "                 color: White;\n",
    "                 text-align:left;\n",
    "                 font-family: Trebuchet MS;\">5.1  Univariate Analysis\n",
    "    </h3>\n",
    "</div>\n",
    "\n",
    "We will analyze each feature individually. \n",
    "* For the `category` type features, we will use **bar plot** and **pie chart**. \n",
    "* For the `numerical` type features, we will use **box plot** and **histogram**."
   ]
  },
  {
   "cell_type": "code",
   "execution_count": 147,
   "metadata": {
    "_kg_hide-input": true,
    "_kg_hide-output": true,
    "execution": {
     "iopub.execute_input": "2022-09-02T17:43:44.774447Z",
     "iopub.status.busy": "2022-09-02T17:43:44.774171Z",
     "iopub.status.idle": "2022-09-02T17:43:44.790511Z",
     "shell.execute_reply": "2022-09-02T17:43:44.789395Z",
     "shell.execute_reply.started": "2022-09-02T17:43:44.774424Z"
    }
   },
   "outputs": [],
   "source": [
    "## Helper Functions\n",
    "\n",
    "def univariate_multi_plot(df=salaries, x=None, xlabel=None, explode=None):\n",
    "    fig, ax = plt.subplots(1, 2, figsize=(20, 7))\n",
    "    sns.countplot(data=df, x=x, ax=ax[0], order=df[x].value_counts(ascending=True).index)\n",
    "    df[x].value_counts(ascending=True).plot(kind=\"pie\", autopct=\"%1.1f%%\", ax=ax[1], explode=explode)\n",
    "    sns.despine(bottom=True, left=True)\n",
    "    ax[0].set_xlabel(xlabel=xlabel, size=12, fontdict=FIG_FONT)\n",
    "    ax[0].set_ylabel(ylabel=\"\")\n",
    "    ax[1].set_ylabel(ylabel=\"\")\n",
    "    ax[0].bar_label(ax[0].containers[0], label_type='edge', size=12, padding=1, fontname=\"Helvetica, Ariel\", \n",
    "                    color=\"#7f7f7f\")\n",
    "    fig.text(0.5, 1, f'{xlabel} Distribution', size=16, fontdict=FIG_FONT, ha=\"center\", va=\"center\")\n",
    "    plt.show()\n",
    "    \n",
    "    \n",
    "def univariate_single_plot(df=salaries, x=None, xlabel=None, rotation=None, bar_label=False):\n",
    "    fig, ax = plt.subplots(1, 1, figsize=(20, 7))\n",
    "    sns.countplot(data=df, x=x, order=df[x].value_counts(ascending=True).index)\n",
    "    sns.despine(bottom=True, left=True)\n",
    "    plt.xlabel(xlabel=xlabel, size=14, fontdict=FIG_FONT)\n",
    "    plt.xticks(rotation=rotation)\n",
    "    plt.ylabel(ylabel=\"\")\n",
    "    if bar_label:\n",
    "        ax.bar_label(ax.containers[0], label_type='edge', size=10, padding=1, fontname=\"Helvetica, Ariel\", \n",
    "                        color=\"#7f7f7f\")\n",
    "    plt.title(label=f'{xlabel} Distribution', size=18, fontdict=FIG_FONT)\n",
    "    plt.show()\n",
    "    \n",
    "    \n",
    "def univariate_numerical_plot(df=salaries, x=None, xlabel=None, bar_label=True):\n",
    "    fig, ax = plt.subplots(1, 2, figsize=(20, 7))\n",
    "    sns.histplot(data=df, x=x, kde=True, ax=ax[0])\n",
    "    sns.boxplot(data=df, x=x, ax=ax[1])\n",
    "    sns.despine(bottom=True, left=True)\n",
    "    ax[0].set_xlabel(xlabel=xlabel, size=12, fontdict=FIG_FONT)\n",
    "    ax[1].set_xlabel(xlabel=xlabel, size=12, fontdict=FIG_FONT)\n",
    "    ax[0].set_ylabel(ylabel=\"\")\n",
    "    ax[1].set_ylabel(ylabel=\"\")\n",
    "    fig.text(0.5, 1, f'{xlabel} Distribution', size=16, fontdict=FIG_FONT, ha=\"center\", va=\"center\")\n",
    "    plt.show()"
   ]
  },
  {
   "cell_type": "code",
   "execution_count": 148,
   "metadata": {
    "_kg_hide-input": true,
    "_kg_hide-output": true,
    "execution": {
     "iopub.execute_input": "2022-09-02T17:43:44.792092Z",
     "iopub.status.busy": "2022-09-02T17:43:44.791794Z",
     "iopub.status.idle": "2022-09-02T17:43:44.810226Z",
     "shell.execute_reply": "2022-09-02T17:43:44.809384Z",
     "shell.execute_reply.started": "2022-09-02T17:43:44.792066Z"
    }
   },
   "outputs": [],
   "source": [
    "# for interpretability in graphs\n",
    "salaries[\"experience_level\"].replace([\"EN\", \"MI\", \"SE\", \"EX\"], [\"Junior\", \"Mid\", \"Senior\", \"Expert\"], inplace=True)\n",
    "salaries[\"remote_ratio\"].replace([0, 50, 100], [\"On-site\", \"Hybrid\", \"Remote\"], inplace=True)\n",
    "salaries[\"employment_type\"].replace([\"PT\", \"FT\", \"CT\", \"FL\"], [\"Part-time\", \"Full-time\", \"Contract\", \"Freelance\"], inplace=True)\n",
    "salaries[\"company_size\"].replace([\"S\", \"M\", \"L\"], [\"Small\", \"Medium\", \"Large\"], inplace=True)"
   ]
  },
  {
   "cell_type": "markdown",
   "metadata": {},
   "source": [
    "<div id='work_year'\n",
    "     style = \"display: fill;\n",
    "              border-radius: 5px;\n",
    "              background-color: #5997e9;\">\n",
    "    <h3 style = \"padding: 15px; \n",
    "                 color: White;\n",
    "                 text-align:left;\n",
    "                 font-family: Trebuchet MS;\">5.1.1  Work Year\n",
    "    </h3>\n",
    "</div>"
   ]
  },
  {
   "cell_type": "code",
   "execution_count": 149,
   "metadata": {
    "execution": {
     "iopub.execute_input": "2022-09-02T17:43:44.811870Z",
     "iopub.status.busy": "2022-09-02T17:43:44.811455Z",
     "iopub.status.idle": "2022-09-02T17:43:45.675822Z",
     "shell.execute_reply": "2022-09-02T17:43:45.675140Z",
     "shell.execute_reply.started": "2022-09-02T17:43:44.811845Z"
    }
   },
   "outputs": [],
   "source": [
    "univariate_multi_plot(x=\"work_year\", xlabel=\"Work Year\")"
   ]
  },
  {
   "cell_type": "markdown",
   "metadata": {},
   "source": [
    "* More than half of the salary data is from **2022**. \n",
    "* Almost 1/3 of the data are from **2021**\n",
    "* Rest of the data are from **2020** with approximately **11.9%** share.\n",
    "\n",
    "\n",
    "* **Possible Conclusion**: Number of data science jobs are increasing over the years."
   ]
  },
  {
   "cell_type": "markdown",
   "metadata": {},
   "source": [
    "<div id = 'experience_level'\n",
    "     style = \"display: fill;\n",
    "              border-radius: 5px;\n",
    "              background-color: #5997e9;\">\n",
    "    <h3 style = \"padding: 15px; \n",
    "                 color: White;\n",
    "                 text-align:left;\n",
    "                 font-family: Trebuchet MS;\">5.1.2  Experience Level\n",
    "    </h3>\n",
    "</div>"
   ]
  },
  {
   "cell_type": "code",
   "execution_count": 150,
   "metadata": {
    "execution": {
     "iopub.execute_input": "2022-09-02T17:43:45.677478Z",
     "iopub.status.busy": "2022-09-02T17:43:45.677144Z",
     "iopub.status.idle": "2022-09-02T17:43:46.559769Z",
     "shell.execute_reply": "2022-09-02T17:43:46.558711Z",
     "shell.execute_reply.started": "2022-09-02T17:43:45.677444Z"
    }
   },
   "outputs": [],
   "source": [
    "univariate_multi_plot(x=\"experience_level\", xlabel=\"Experience Level\")"
   ]
  },
  {
   "cell_type": "markdown",
   "metadata": {},
   "source": [
    "* Number of **senior-level** employees are highest in the dataset. \n",
    "* Also, the number of **mid-level** employees is quite close to **senior-level**. \n",
    "* Meanwhile, the number of **junior-level** and **expert-level** employees is relatively low. "
   ]
  },
  {
   "cell_type": "markdown",
   "metadata": {},
   "source": [
    "<div id = 'employment_type'\n",
    "     style = \"display: fill;\n",
    "              border-radius: 5px;\n",
    "              background-color: #5997e9;\">\n",
    "    <h3 style = \"padding: 15px; \n",
    "                 color: White;\n",
    "                 text-align:left;\n",
    "                 font-family: Trebuchet MS;\">5.1.3  Employment Type\n",
    "    </h3>\n",
    "</div>"
   ]
  },
  {
   "cell_type": "code",
   "execution_count": 151,
   "metadata": {
    "execution": {
     "iopub.execute_input": "2022-09-02T17:43:46.561453Z",
     "iopub.status.busy": "2022-09-02T17:43:46.561126Z",
     "iopub.status.idle": "2022-09-02T17:43:47.507476Z",
     "shell.execute_reply": "2022-09-02T17:43:47.506354Z",
     "shell.execute_reply.started": "2022-09-02T17:43:46.561421Z"
    }
   },
   "outputs": [],
   "source": [
    "univariate_multi_plot(x=\"employment_type\", xlabel=\"Employment Type\", explode=(0.5, 0.3, 0.1, 0))"
   ]
  },
  {
   "cell_type": "markdown",
   "metadata": {},
   "source": [
    "* Number of **full-time** employees is significantly higher than others. Approximately **96.9%** of the whole dataset.\n",
    "* Number of **part-time** employees is very low. \n",
    "* Meanwhile, the number of **contract** and **freelance** employees is almost next to zero.\n",
    "\n",
    "\n",
    "* **Possible Conclusion**: Almost all the data science jobs require you to be a full-time employee."
   ]
  },
  {
   "cell_type": "markdown",
   "metadata": {},
   "source": [
    "<div id = 'job_title'\n",
    "     style = \"display: fill;\n",
    "              border-radius: 5px;\n",
    "              background-color: #5997e9;\">\n",
    "    <h3 style = \"padding: 15px; \n",
    "                 color: White;\n",
    "                 text-align:left;\n",
    "                 font-family: Trebuchet MS;\">5.1.4  Job Title\n",
    "    </h3>\n",
    "</div>"
   ]
  },
  {
   "cell_type": "code",
   "execution_count": 152,
   "metadata": {
    "execution": {
     "iopub.execute_input": "2022-09-02T17:43:47.508798Z",
     "iopub.status.busy": "2022-09-02T17:43:47.508571Z",
     "iopub.status.idle": "2022-09-02T17:43:49.351315Z",
     "shell.execute_reply": "2022-09-02T17:43:49.350264Z",
     "shell.execute_reply.started": "2022-09-02T17:43:47.508774Z"
    }
   },
   "outputs": [],
   "source": [
    "univariate_single_plot(x=\"job_title\", xlabel=\"Job Title\", rotation=90, bar_label=True)"
   ]
  },
  {
   "cell_type": "markdown",
   "metadata": {},
   "source": [
    "* Number of **Data Scientist** and **Data Engineer** salary data are highest in the dataset.\n",
    "* **Data Analyst** takes the third place.\n",
    "* **Machine Learning Engineer** is the last significant title with approximately 40 entries.\n",
    "\n",
    "\n",
    "* **Possible Conclusion**: Job market is mostly dominated by **Data Scientists**, **Data Engineers**, **Data Analysts**, and **Machine Learning Engineers**."
   ]
  },
  {
   "cell_type": "markdown",
   "metadata": {},
   "source": [
    "<div id = 'salary'\n",
    "     style = \"display: fill;\n",
    "              border-radius: 5px;\n",
    "              background-color: #5997e9;\">\n",
    "    <h3 style = \"padding: 15px; \n",
    "                 color: White;\n",
    "                 text-align:left;\n",
    "                 font-family: Trebuchet MS;\">5.1.5  Salary\n",
    "    </h3>\n",
    "</div>"
   ]
  },
  {
   "cell_type": "code",
   "execution_count": 153,
   "metadata": {
    "execution": {
     "iopub.execute_input": "2022-09-02T17:43:49.352655Z",
     "iopub.status.busy": "2022-09-02T17:43:49.352429Z",
     "iopub.status.idle": "2022-09-02T17:43:50.491890Z",
     "shell.execute_reply": "2022-09-02T17:43:50.490819Z",
     "shell.execute_reply.started": "2022-09-02T17:43:49.352634Z"
    }
   },
   "outputs": [],
   "source": [
    "univariate_numerical_plot(x=\"salary\", xlabel=\"Salary\")"
   ]
  },
  {
   "cell_type": "markdown",
   "metadata": {},
   "source": [
    "* By looking at the curve, we can say that most of the employees are getting paid around **100,000** USD. \n",
    "* Higher salaries are quite rare, especially over **300,000** USD.\n",
    "\n",
    "\n",
    "I would like to look into the employees who earn more than **300,000** USD."
   ]
  },
  {
   "cell_type": "code",
   "execution_count": 154,
   "metadata": {
    "_kg_hide-input": true,
    "execution": {
     "iopub.execute_input": "2022-09-02T17:43:50.493601Z",
     "iopub.status.busy": "2022-09-02T17:43:50.493372Z",
     "iopub.status.idle": "2022-09-02T17:43:50.510707Z",
     "shell.execute_reply": "2022-09-02T17:43:50.509767Z",
     "shell.execute_reply.started": "2022-09-02T17:43:50.493580Z"
    }
   },
   "outputs": [],
   "source": [
    "salaries[salaries[\"salary\"] > 300000].sort_values(\"salary\", ascending=False).reset_index(drop=True)"
   ]
  },
  {
   "cell_type": "markdown",
   "metadata": {},
   "source": [
    "* They **all** live in the **United States** and work for **US-based** companies. \n",
    "* **80%** of them are working **remote**. \n",
    "* **Most** of them are working at **large** companies.\n",
    "* **90%** of them are **full-time** employees.\n",
    "* There are no **junior**-level employees who earn more than **300,000** USD.\n",
    "\n",
    "\n",
    "* **Possible Conclusion**: If we get a data science job right now, we will most likely be paid around **100,000** USD. Only in the **United States** can we earn extremely high wages."
   ]
  },
  {
   "cell_type": "markdown",
   "metadata": {},
   "source": [
    "<div id = 'employee_residence'\n",
    "     style = \"display: fill;\n",
    "              border-radius: 5px;\n",
    "              background-color: #5997e9;\">\n",
    "    <h3 style = \"padding: 15px; \n",
    "                 color: White;\n",
    "                 text-align:left;\n",
    "                 font-family: Trebuchet MS;\">5.1.6  Employee Residence\n",
    "    </h3>\n",
    "</div>"
   ]
  },
  {
   "cell_type": "code",
   "execution_count": 155,
   "metadata": {
    "execution": {
     "iopub.execute_input": "2022-09-02T17:43:50.511754Z",
     "iopub.status.busy": "2022-09-02T17:43:50.511517Z",
     "iopub.status.idle": "2022-09-02T17:43:51.728399Z",
     "shell.execute_reply": "2022-09-02T17:43:51.727379Z",
     "shell.execute_reply.started": "2022-09-02T17:43:50.511732Z"
    }
   },
   "outputs": [],
   "source": [
    "univariate_single_plot(x=\"employee_residence\", xlabel=\"Employee Residence\", bar_label=True)"
   ]
  },
  {
   "cell_type": "markdown",
   "metadata": {},
   "source": [
    "* The **United States** clearly dominates the competition with over **300** data entries.\n",
    "* **Great Britain**, **Canada**, **India**, and **Germany** follows the **United States**, with less than **50** entries.\n",
    "* Most of the countries are next to zero.\n",
    "\n",
    "\n",
    "* **Possible Conclusion**: Data science jobs are much more popular and common in the United States than in any other country.\n"
   ]
  },
  {
   "cell_type": "markdown",
   "metadata": {},
   "source": [
    "<div id = 'remote_ratio'\n",
    "     style = \"display: fill;\n",
    "              border-radius: 5px;\n",
    "              background-color: #5997e9;\">\n",
    "    <h3 style = \"padding: 15px; \n",
    "                 color: White;\n",
    "                 text-align:left;\n",
    "                 font-family: Trebuchet MS;\">5.1.7  Remote Ratio\n",
    "    </h3>\n",
    "</div>"
   ]
  },
  {
   "cell_type": "code",
   "execution_count": 156,
   "metadata": {
    "execution": {
     "iopub.execute_input": "2022-09-02T17:43:51.730133Z",
     "iopub.status.busy": "2022-09-02T17:43:51.729766Z",
     "iopub.status.idle": "2022-09-02T17:43:52.593831Z",
     "shell.execute_reply": "2022-09-02T17:43:52.592598Z",
     "shell.execute_reply.started": "2022-09-02T17:43:51.730100Z"
    }
   },
   "outputs": [],
   "source": [
    "univariate_multi_plot(x=\"remote_ratio\", xlabel=\"Remote Ratio\")"
   ]
  },
  {
   "cell_type": "markdown",
   "metadata": {},
   "source": [
    "* **Remote** jobs are more popular by far with approximately **62.8%** share.\n",
    "* **Hybrid** and **On-site** jobs almost have the same popularity.\n",
    "\n",
    "\n",
    "* **Possible Conclusion**: This result may be due to the covid pandemic. It is known that remote jobs are increasing because of the pandemic.\n",
    "* Later on, I will analyze the **remote work ratio** and **work year** at the same time to see if there is a correlation as I suspected."
   ]
  },
  {
   "cell_type": "markdown",
   "metadata": {},
   "source": [
    "<div id = 'company_location'\n",
    "     style = \"display: fill;\n",
    "              border-radius: 5px;\n",
    "              background-color: #5997e9;\">\n",
    "    <h3 style = \"padding: 15px; \n",
    "                 color: White;\n",
    "                 text-align:left;\n",
    "                 font-family: Trebuchet MS;\">5.1.8  Company Location\n",
    "    </h3>\n",
    "</div>"
   ]
  },
  {
   "cell_type": "code",
   "execution_count": 157,
   "metadata": {
    "execution": {
     "iopub.execute_input": "2022-09-02T17:43:52.595160Z",
     "iopub.status.busy": "2022-09-02T17:43:52.594912Z",
     "iopub.status.idle": "2022-09-02T17:43:53.733457Z",
     "shell.execute_reply": "2022-09-02T17:43:53.732593Z",
     "shell.execute_reply.started": "2022-09-02T17:43:52.595133Z"
    }
   },
   "outputs": [],
   "source": [
    "univariate_single_plot(x=\"company_location\", xlabel=\"Company Location\", bar_label=True)"
   ]
  },
  {
   "cell_type": "markdown",
   "metadata": {},
   "source": [
    "* The result is extremely similar to **employee residence** distribution.\n",
    "* The **United States** dominates every other country by far.\n",
    "* **Great Britain**, **Canada**, **India**, and **Germany** are following the **United States**.\n",
    "\n",
    "\n",
    "* **Possible Conclusion**: Similar to employee residence analysis, most of the employers (companies) are **US** based."
   ]
  },
  {
   "cell_type": "markdown",
   "metadata": {},
   "source": [
    "<div id = 'company_size'\n",
    "     style = \"display: fill;\n",
    "              border-radius: 5px;\n",
    "              background-color: #5997e9;\">\n",
    "    <h3 style = \"padding: 15px; \n",
    "                 color: White;\n",
    "                 text-align:left;\n",
    "                 font-family: Trebuchet MS;\">5.1.9  Company Size\n",
    "    </h3>\n",
    "</div>"
   ]
  },
  {
   "cell_type": "code",
   "execution_count": 158,
   "metadata": {
    "execution": {
     "iopub.execute_input": "2022-09-02T17:43:53.735556Z",
     "iopub.status.busy": "2022-09-02T17:43:53.734866Z",
     "iopub.status.idle": "2022-09-02T17:43:54.595706Z",
     "shell.execute_reply": "2022-09-02T17:43:54.595039Z",
     "shell.execute_reply.started": "2022-09-02T17:43:53.735529Z"
    }
   },
   "outputs": [],
   "source": [
    "univariate_multi_plot(x=\"company_size\", xlabel=\"Company Size\")"
   ]
  },
  {
   "cell_type": "markdown",
   "metadata": {},
   "source": [
    "* **Medium size** companies take the lead with approximately **53.7%** share.\n",
    "* Almost **1/3** of the data science jobs are posted by **Large size** companies.\n",
    "\n",
    "\n",
    "* **Possible Conclusion**: I assume that, in general, the number of **large size** companies is less than **medium size** companies. The difference in results between **medium size** and **large size** companies may be due to this reason. Meanwhile, **small size** companies may not require a data scientist or any data science-related employee."
   ]
  },
  {
   "cell_type": "markdown",
   "metadata": {},
   "source": [
    "<div id = 'multivariate-analysis'\n",
    "     style = \"display: fill;\n",
    "              border-radius: 5px;\n",
    "              background-color: #5997e9;\">\n",
    "    <h3 style = \"padding: 15px; \n",
    "                 color: White;\n",
    "                 text-align:left;\n",
    "                 font-family: Trebuchet MS;\">5.2 Multivariate Analysis\n",
    "    </h3>\n",
    "</div>\n",
    "Now, we will try to analyze features as pairs to understand the relationships between them."
   ]
  },
  {
   "cell_type": "code",
   "execution_count": 159,
   "metadata": {
    "_kg_hide-input": true,
    "_kg_hide-output": true,
    "execution": {
     "iopub.execute_input": "2022-09-02T17:43:54.597767Z",
     "iopub.status.busy": "2022-09-02T17:43:54.596688Z",
     "iopub.status.idle": "2022-09-02T17:43:54.611441Z",
     "shell.execute_reply": "2022-09-02T17:43:54.610261Z",
     "shell.execute_reply.started": "2022-09-02T17:43:54.597740Z"
    }
   },
   "outputs": [],
   "source": [
    "## Helper Functions\n",
    "\n",
    "def multivariate_plot(df=salaries, x=None, hue=None, xlabel=None, rotation=None, bar_label=True, \n",
    "                      legend=False, rotate_label=False):\n",
    "    fig, ax = plt.subplots(1, 1, figsize=(20, 7))\n",
    "    df = df.groupby(x).mean()[\"salary\"].sort_values().reset_index().copy()\n",
    "    sns.barplot(data=df, x=x, y=\"salary\", hue=hue, ci=None)\n",
    "    plt.ylabel(ylabel=\"Salary (in USD)\", size=12, fontdict=FIG_FONT)\n",
    "    plt.xlabel(xlabel=xlabel, size=12, fontdict=FIG_FONT)\n",
    "    plt.title(label=f'Salaries by {xlabel}', size=16, fontdict=FIG_FONT)\n",
    "    plt.xticks(rotation=rotation)\n",
    "    if legend:\n",
    "        plt.legend()\n",
    "    if bar_label and rotate_label:\n",
    "        ax.bar_label(ax.containers[0], label_type='edge', size=10, padding=3, fontname=\"Helvetica, Ariel\", \n",
    "                    color=\"#7f7f7f\", rotation=\"vertical\")\n",
    "    elif bar_label and not rotate_label:\n",
    "        ax.bar_label(ax.containers[0], label_type='edge', size=12, padding=1, fontname=\"Helvetica, Ariel\", \n",
    "                    color=\"#7f7f7f\")\n",
    "    sns.despine(bottom=True, left=True)\n",
    "    plt.show()\n",
    "    \n",
    "    \n",
    "def multivariate_count_plot(df=salaries, x=None, hue=None, xlabel=None, hue_label=None, rotation=None, \n",
    "                            legend=False, bar_label=False, convert=False):\n",
    "    fig ,ax = plt.subplots(1, 1, figsize=(20, 7))\n",
    "    sns.countplot(data=df, x=x, hue=hue)\n",
    "    plt.ylabel(ylabel=\"\", size=12, fontdict=FIG_FONT)\n",
    "    plt.xlabel(xlabel=xlabel, size=12, fontdict=FIG_FONT)\n",
    "    plt.title(label=f'{hue_label} vs. {xlabel}', size=16, fontdict=FIG_FONT)\n",
    "    plt.xticks(rotation=rotation)\n",
    "    if bar_label:\n",
    "        for i in range(df[hue].nunique()):\n",
    "            ax.bar_label(ax.containers[i], label_type='edge', size=10, padding=1, fontname=\"Helvetica, Ariel\", \n",
    "                    color=\"#7f7f7f\")\n",
    "    if legend:\n",
    "        if convert:\n",
    "            country_labels = coco.CountryConverter().convert(df[hue].unique(), to='name_short')\n",
    "            plt.legend(title=hue_label, labels=country_labels)\n",
    "        else:\n",
    "            plt.legend(title=hue_label)\n",
    "    sns.despine(bottom=True, left=True)\n",
    "    plt.show()"
   ]
  },
  {
   "cell_type": "markdown",
   "metadata": {},
   "source": [
    "<div id = 'work_year-salary'\n",
    "     style = \"display: fill;\n",
    "              border-radius: 5px;\n",
    "              background-color: #5997e9;\">\n",
    "    <h3 style = \"padding: 15px; \n",
    "                 color: White;\n",
    "                 text-align:left;\n",
    "                 font-family: Trebuchet MS;\">5.2.1 Work Year and Salary\n",
    "    </h3>\n",
    "</div>"
   ]
  },
  {
   "cell_type": "code",
   "execution_count": 160,
   "metadata": {
    "execution": {
     "iopub.execute_input": "2022-09-02T17:43:54.613783Z",
     "iopub.status.busy": "2022-09-02T17:43:54.613448Z",
     "iopub.status.idle": "2022-09-02T17:43:55.331360Z",
     "shell.execute_reply": "2022-09-02T17:43:55.330427Z",
     "shell.execute_reply.started": "2022-09-02T17:43:54.613750Z"
    }
   },
   "outputs": [],
   "source": [
    "multivariate_plot(x=\"work_year\", xlabel=\"Work Year\")"
   ]
  },
  {
   "cell_type": "code",
   "execution_count": 161,
   "metadata": {
    "_kg_hide-input": true,
    "_kg_hide-output": true,
    "execution": {
     "iopub.execute_input": "2022-09-02T17:43:55.333048Z",
     "iopub.status.busy": "2022-09-02T17:43:55.332712Z",
     "iopub.status.idle": "2022-09-02T17:43:55.344339Z",
     "shell.execute_reply": "2022-09-02T17:43:55.342860Z",
     "shell.execute_reply.started": "2022-09-02T17:43:55.332995Z"
    }
   },
   "outputs": [],
   "source": [
    "diff_2022 = salaries.groupby(\"work_year\")[\"salary\"].mean().loc[2022] - salaries.groupby(\"work_year\")[\"salary\"].mean().loc[2021]\n",
    "diff_2022_in_percentage = diff_2022 / salaries.groupby(\"work_year\")[\"salary\"].mean().loc[2021] * 100 \n",
    "print(f'2021-2022 average salary increase: {diff_2022_in_percentage:.2f}%')"
   ]
  },
  {
   "cell_type": "markdown",
   "metadata": {},
   "source": [
    "* Salaries increased in **2021** but not that much.\n",
    "* Salaries increased significantly in **2022** with approximately **24.70%**.\n",
    "\n",
    "\n",
    "* **Possible Conclusion**: Data science jobs are becoming more important; therefore, salaries are increasing over the years. This may be due to the fact that companies are learning what they can do with their data. For example; increasing efficiency, cutting costs, etc."
   ]
  },
  {
   "cell_type": "markdown",
   "metadata": {},
   "source": [
    "<div id = 'experience_level-salary'\n",
    "     style = \"display: fill;\n",
    "              border-radius: 5px;\n",
    "              background-color: #5997e9;\">\n",
    "    <h3 style = \"padding: 15px; \n",
    "                 color: White;\n",
    "                 text-align:left;\n",
    "                 font-family: Trebuchet MS;\">5.2.2  Experience Level and Salary\n",
    "    </h3>\n",
    "</div>"
   ]
  },
  {
   "cell_type": "code",
   "execution_count": 162,
   "metadata": {
    "execution": {
     "iopub.execute_input": "2022-09-02T17:43:55.346274Z",
     "iopub.status.busy": "2022-09-02T17:43:55.345948Z",
     "iopub.status.idle": "2022-09-02T17:43:56.097652Z",
     "shell.execute_reply": "2022-09-02T17:43:56.096655Z",
     "shell.execute_reply.started": "2022-09-02T17:43:55.346248Z"
    }
   },
   "outputs": [],
   "source": [
    "multivariate_plot(x=\"experience_level\", xlabel=\"Experience Level\")"
   ]
  },
  {
   "cell_type": "code",
   "execution_count": 163,
   "metadata": {
    "_kg_hide-input": true,
    "execution": {
     "iopub.execute_input": "2022-09-02T17:43:56.099159Z",
     "iopub.status.busy": "2022-09-02T17:43:56.098899Z",
     "iopub.status.idle": "2022-09-02T17:43:56.107184Z",
     "shell.execute_reply": "2022-09-02T17:43:56.106144Z",
     "shell.execute_reply.started": "2022-09-02T17:43:56.099135Z"
    }
   },
   "outputs": [],
   "source": [
    "salaries_by_exp = salaries.groupby(\"experience_level\")[\"salary\"].mean()\n",
    "ex_se_diff = (salaries_by_exp.loc[\"Expert\"] - salaries_by_exp.loc[\"Senior\"]) \n",
    "se_mi_diff = (salaries_by_exp.loc[\"Senior\"] - salaries_by_exp.loc[\"Mid\"]) \n",
    "mi_en_diff = (salaries_by_exp.loc[\"Mid\"] - salaries_by_exp.loc[\"Junior\"]) \n",
    "print(f'Expert-Senior Difference: {int(ex_se_diff)} USD ({ex_se_diff / salaries_by_exp.loc[\"Senior\"] * 100:.2f}%)')\n",
    "print(f'Senior-Mid Difference: {int(se_mi_diff)} USD ({se_mi_diff / salaries_by_exp.loc[\"Mid\"] * 100:.2f}%)')\n",
    "print(f'Mid-Junior Difference: {int(mi_en_diff)} USD ({mi_en_diff / salaries_by_exp.loc[\"Junior\"] * 100:.2f}%)')"
   ]
  },
  {
   "cell_type": "markdown",
   "metadata": {},
   "source": [
    "* Salary and Experience level have a positive correlation. Which means, employees with higher experience get higher salaries.\n",
    "* Salary increase between **Mid-level** and **Entry-level** positions are lowest by far (not in percentage).\n",
    "\n",
    "\n",
    "* **Possible Conclusion**: If an employee gets more experienced, he/she will earn more money. Also, going from entry level to mid-level does not increase salary too much. But if an employee keeps working and becoming more experienced, the salary increase comes much more drastic. This also can be interpreted as, if you are a senior engineer, you can ask for a raise with more confidence because of the job market."
   ]
  },
  {
   "cell_type": "markdown",
   "metadata": {},
   "source": [
    "<div id = 'employment_type-salary'\n",
    "     style = \"display: fill;\n",
    "              border-radius: 5px;\n",
    "              background-color: #5997e9;\">\n",
    "    <h3 style = \"padding: 15px; \n",
    "                 color: White;\n",
    "                 text-align:left;\n",
    "                 font-family: Trebuchet MS;\">5.2.3  Employment Type and Salary\n",
    "    </h3>\n",
    "</div>"
   ]
  },
  {
   "cell_type": "code",
   "execution_count": 164,
   "metadata": {
    "execution": {
     "iopub.execute_input": "2022-09-02T17:43:56.108791Z",
     "iopub.status.busy": "2022-09-02T17:43:56.108550Z",
     "iopub.status.idle": "2022-09-02T17:43:56.848757Z",
     "shell.execute_reply": "2022-09-02T17:43:56.847807Z",
     "shell.execute_reply.started": "2022-09-02T17:43:56.108768Z"
    }
   },
   "outputs": [],
   "source": [
    "multivariate_plot(x=\"employment_type\", xlabel=\"Employment Type\")"
   ]
  },
  {
   "cell_type": "code",
   "execution_count": 165,
   "metadata": {
    "_kg_hide-input": true,
    "_kg_hide-output": true,
    "execution": {
     "iopub.execute_input": "2022-09-02T17:43:56.850148Z",
     "iopub.status.busy": "2022-09-02T17:43:56.849874Z",
     "iopub.status.idle": "2022-09-02T17:43:56.857093Z",
     "shell.execute_reply": "2022-09-02T17:43:56.856048Z",
     "shell.execute_reply.started": "2022-09-02T17:43:56.850125Z"
    }
   },
   "outputs": [],
   "source": [
    "salaries_by_empl_type = salaries.groupby(\"employment_type\")[\"salary\"].mean()\n",
    "ft_pt_difference = salaries_by_empl_type.loc[\"Full-time\"] - salaries_by_empl_type.loc[\"Part-time\"]\n",
    "print(ft_pt_difference / salaries_by_empl_type.loc[\"Part-time\"] * 100)"
   ]
  },
  {
   "cell_type": "markdown",
   "metadata": {},
   "source": [
    "* Employees that work with a **contract** earn the most by far. \n",
    "* **Full-time** employees are getting paid almost **three times** of what **part-time** employees are getting. Results are surprising for me because, full-time usually means working twice as much as part-time. That is why, I was expecting approximately a **100%** difference, but here, we have a **243%** difference.\n",
    "\n",
    "\n",
    "* **Possible Conclusion**: Working with a contract is the best option by far because of the extremely high salaries. For the full-time/part-time difference, we may interpret this as, the companies does not value their part-time employees. Even though they are working 20hrs/wk (assumption), salaries are way lower than full-time, which is 40hrs/wk (assumption). Lastly, in this current job market, I think working full-time at a company is a better choice compared to working by him/herself as freelance.\n",
    "\n"
   ]
  },
  {
   "cell_type": "markdown",
   "metadata": {},
   "source": [
    "<div id = 'job_title-salary'\n",
    "     style = \"display: fill;\n",
    "              border-radius: 5px;\n",
    "              background-color: #5997e9;\">\n",
    "    <h3 style = \"padding: 15px; \n",
    "                 color: White;\n",
    "                 text-align:left;\n",
    "                 font-family: Trebuchet MS;\">5.2.4 Job Title and Salary\n",
    "    </h3>\n",
    "</div>"
   ]
  },
  {
   "cell_type": "code",
   "execution_count": 166,
   "metadata": {
    "execution": {
     "iopub.execute_input": "2022-09-02T17:43:56.859142Z",
     "iopub.status.busy": "2022-09-02T17:43:56.858706Z",
     "iopub.status.idle": "2022-09-02T17:43:58.632411Z",
     "shell.execute_reply": "2022-09-02T17:43:58.631301Z",
     "shell.execute_reply.started": "2022-09-02T17:43:56.859103Z"
    }
   },
   "outputs": [],
   "source": [
    "multivariate_plot(x=\"job_title\", xlabel=\"Job Title\", rotation=90, bar_label=False)"
   ]
  },
  {
   "cell_type": "markdown",
   "metadata": {},
   "source": [
    "By looking at this graph, I have some suspicions about the accuracy of the results. Some job titles such as **Data Analytics Lead** and **Principal Data Engineer** earning more than 3 million USD per year. Maybe there is insufficient data for some job titles. If only one entry is available with 3 million USD, this means the average is also 3 million, which does not really reflect reality. I will check if there are any job titles with single entry."
   ]
  },
  {
   "cell_type": "code",
   "execution_count": 167,
   "metadata": {
    "_kg_hide-input": true,
    "execution": {
     "iopub.execute_input": "2022-09-02T17:43:58.633981Z",
     "iopub.status.busy": "2022-09-02T17:43:58.633706Z",
     "iopub.status.idle": "2022-09-02T17:43:58.647458Z",
     "shell.execute_reply": "2022-09-02T17:43:58.646233Z",
     "shell.execute_reply.started": "2022-09-02T17:43:58.633956Z"
    }
   },
   "outputs": [],
   "source": [
    "single_entries = pd.DataFrame(data=salaries[\"job_title\"].value_counts(ascending=True).head(10))\n",
    "single_entries.columns = [\"Number of Salary Data\"]\n",
    "single_entries.index.names = [\"Job Title\"]\n",
    "single_entries"
   ]
  },
  {
   "cell_type": "markdown",
   "metadata": {
    "_kg_hide-input": false
   },
   "source": [
    "* In fact, **Data Analytics Lead** has a single data entry which may give an unrealistic outcome. Surprising part is that, the **Principal Data Engineer** (which was the other title I was suspicious about) does have more than a single entry.\n",
    "* I will filter the titles that have a single entry (just to be safe)."
   ]
  },
  {
   "cell_type": "code",
   "execution_count": 168,
   "metadata": {
    "_kg_hide-input": true,
    "_kg_hide-output": true,
    "execution": {
     "iopub.execute_input": "2022-09-02T17:43:58.649084Z",
     "iopub.status.busy": "2022-09-02T17:43:58.648758Z",
     "iopub.status.idle": "2022-09-02T17:43:58.658298Z",
     "shell.execute_reply": "2022-09-02T17:43:58.657586Z",
     "shell.execute_reply.started": "2022-09-02T17:43:58.649052Z"
    }
   },
   "outputs": [],
   "source": [
    "salaries_mult_entry = salaries.groupby(\"job_title\").filter(lambda x: len(x) > 1)"
   ]
  },
  {
   "cell_type": "code",
   "execution_count": 169,
   "metadata": {
    "execution": {
     "iopub.execute_input": "2022-09-02T17:43:58.659365Z",
     "iopub.status.busy": "2022-09-02T17:43:58.659154Z",
     "iopub.status.idle": "2022-09-02T17:44:00.041308Z",
     "shell.execute_reply": "2022-09-02T17:44:00.039826Z",
     "shell.execute_reply.started": "2022-09-02T17:43:58.659344Z"
    }
   },
   "outputs": [],
   "source": [
    "multivariate_plot(df=salaries_mult_entry, x=\"job_title\", xlabel=\"Job Title\", rotation=90, bar_label=False)"
   ]
  },
  {
   "cell_type": "markdown",
   "metadata": {},
   "source": [
    "* **Principal Data Engineers** and **Financial Data Analysts** are earning the most with over 2.5 million USD.\n",
    "* **Product Data Analysts** are earning the least.\n",
    "* I am still skeptical about these three titles. Two of them earning too much and one of them earning too little. I want to analyze them further."
   ]
  },
  {
   "cell_type": "code",
   "execution_count": 170,
   "metadata": {
    "_kg_hide-input": true,
    "execution": {
     "iopub.execute_input": "2022-09-02T17:44:00.043464Z",
     "iopub.status.busy": "2022-09-02T17:44:00.043076Z",
     "iopub.status.idle": "2022-09-02T17:44:00.060415Z",
     "shell.execute_reply": "2022-09-02T17:44:00.059096Z",
     "shell.execute_reply.started": "2022-09-02T17:44:00.043434Z"
    }
   },
   "outputs": [],
   "source": [
    "sus_titles = [\"Principal Data Engineer\", \"Financial Data Analyst\", \"Product Data Analyst\"]\n",
    "sus_title_salaries = salaries_mult_entry[salaries_mult_entry[\"job_title\"].isin(sus_titles)]\n",
    "sus_salaries = pd.DataFrame(sus_title_salaries.groupby(\"job_title\")[\"company_location\"].value_counts())\n",
    "sus_salaries.columns = [\"Number of Salary Data\"]\n",
    "sus_salaries.index.names = [\"Job Title\", \"Company Location\"]\n",
    "sus_salaries"
   ]
  },
  {
   "cell_type": "markdown",
   "metadata": {},
   "source": [
    "* Both **Financial Data Analyst** and **Principal Data Engineer** salaries are based in **US**. Meanwhile, **Product Data Analyst** data comes from **Honduras** and **India**. This may be the reason behind the salary difference. I will check the average salaries in **US**, **IN**, and **HN** to prove my point."
   ]
  },
  {
   "cell_type": "code",
   "execution_count": 171,
   "metadata": {
    "_kg_hide-input": true,
    "_kg_hide-output": true,
    "execution": {
     "iopub.execute_input": "2022-09-02T17:44:00.062228Z",
     "iopub.status.busy": "2022-09-02T17:44:00.061881Z",
     "iopub.status.idle": "2022-09-02T17:44:00.071594Z",
     "shell.execute_reply": "2022-09-02T17:44:00.070382Z",
     "shell.execute_reply.started": "2022-09-02T17:44:00.062201Z"
    }
   },
   "outputs": [],
   "source": [
    "in_and_us_salaries = salaries[salaries[\"company_location\"].isin([\"US\", \"IN\", \"HN\"])]"
   ]
  },
  {
   "cell_type": "code",
   "execution_count": 172,
   "metadata": {
    "execution": {
     "iopub.execute_input": "2022-09-02T17:44:00.073514Z",
     "iopub.status.busy": "2022-09-02T17:44:00.073220Z",
     "iopub.status.idle": "2022-09-02T17:44:00.798702Z",
     "shell.execute_reply": "2022-09-02T17:44:00.797673Z",
     "shell.execute_reply.started": "2022-09-02T17:44:00.073482Z"
    }
   },
   "outputs": [],
   "source": [
    "multivariate_plot(df=in_and_us_salaries, x=\"company_location\", xlabel=\"Company Location\")"
   ]
  },
  {
   "cell_type": "markdown",
   "metadata": {},
   "source": [
    "I believe that my assumptions were correct. Average salary in **US** is significantly higher than, both **India** and **Honduras** combined. That also means, there is nothing wrong with the data.\n",
    "\n",
    "\n",
    "* **Possible Conclusion**: **Principal Data Engineer** and **Financial Data Analyst** are earning the most. **Product Data Analyst** earning the least. But titles are correlated with countries as well. So, giving a definite opinion,  just by looking at the job titles may not be a good idea."
   ]
  },
  {
   "cell_type": "markdown",
   "metadata": {},
   "source": [
    "<div id = 'employee_residence-salary'\n",
    "     style = \"display: fill;\n",
    "              border-radius: 5px;\n",
    "              background-color: #5997e9;\">\n",
    "    <h3 style = \"padding: 15px; \n",
    "                 color: White;\n",
    "                 text-align:left;\n",
    "                 font-family: Trebuchet MS;\">5.2.5  Employee Residence and Salary\n",
    "    </h3>\n",
    "</div>"
   ]
  },
  {
   "cell_type": "code",
   "execution_count": 173,
   "metadata": {
    "execution": {
     "iopub.execute_input": "2022-09-02T17:44:00.800104Z",
     "iopub.status.busy": "2022-09-02T17:44:00.799858Z",
     "iopub.status.idle": "2022-09-02T17:44:02.138365Z",
     "shell.execute_reply": "2022-09-02T17:44:02.137222Z",
     "shell.execute_reply.started": "2022-09-02T17:44:00.800080Z"
    }
   },
   "outputs": [],
   "source": [
    "multivariate_plot(x=\"employee_residence\", xlabel=\"Employee Residence\", bar_label=False)"
   ]
  },
  {
   "cell_type": "markdown",
   "metadata": {},
   "source": [
    "After what happened in job title analysis, I will check the number of salary data for each country. There may be a country with a single entry which does not reflect reality.\n"
   ]
  },
  {
   "cell_type": "code",
   "execution_count": 174,
   "metadata": {
    "_kg_hide-input": true,
    "_kg_hide-output": false,
    "execution": {
     "iopub.execute_input": "2022-09-02T17:44:02.139868Z",
     "iopub.status.busy": "2022-09-02T17:44:02.139592Z",
     "iopub.status.idle": "2022-09-02T17:44:02.151335Z",
     "shell.execute_reply": "2022-09-02T17:44:02.150443Z",
     "shell.execute_reply.started": "2022-09-02T17:44:02.139844Z"
    }
   },
   "outputs": [],
   "source": [
    "sus_employee_res = pd.DataFrame(salaries[\"employee_residence\"].value_counts(ascending=True).head(10))\n",
    "sus_employee_res.columns = [\"Number of Salary Data\"]\n",
    "sus_employee_res.index.names = [\"Country Code\"]\n",
    "sus_employee_res"
   ]
  },
  {
   "cell_type": "markdown",
   "metadata": {},
   "source": [
    "There are a lot of countries with a single entry. I prefer to filter these countries. \n",
    "Even though, I will be filtering so many countries, but I think this is the best approach in this situation. Because, I believe that a single entry is not reliable."
   ]
  },
  {
   "cell_type": "code",
   "execution_count": 175,
   "metadata": {
    "_kg_hide-input": true,
    "_kg_hide-output": true,
    "execution": {
     "iopub.execute_input": "2022-09-02T17:44:02.161714Z",
     "iopub.status.busy": "2022-09-02T17:44:02.161395Z",
     "iopub.status.idle": "2022-09-02T17:44:02.170618Z",
     "shell.execute_reply": "2022-09-02T17:44:02.169360Z",
     "shell.execute_reply.started": "2022-09-02T17:44:02.161691Z"
    }
   },
   "outputs": [],
   "source": [
    "salaries_mult_empl_entry = salaries.groupby(\"employee_residence\").filter(lambda x: len(x) > 1)"
   ]
  },
  {
   "cell_type": "code",
   "execution_count": 176,
   "metadata": {
    "execution": {
     "iopub.execute_input": "2022-09-02T17:44:02.173774Z",
     "iopub.status.busy": "2022-09-02T17:44:02.172423Z",
     "iopub.status.idle": "2022-09-02T17:44:03.019010Z",
     "shell.execute_reply": "2022-09-02T17:44:03.018089Z",
     "shell.execute_reply.started": "2022-09-02T17:44:02.173717Z"
    }
   },
   "outputs": [],
   "source": [
    "multivariate_plot(df=salaries_mult_empl_entry, x=\"employee_residence\", xlabel=\"Employee Residence\", bar_label=False)"
   ]
  },
  {
   "cell_type": "markdown",
   "metadata": {},
   "source": [
    "Now it looks more realistic and reliable. \n",
    "* Employees living in the **US**, earning the most with **over 140k** USD.\n",
    "*  **Japan**, **United Arab Emirates**, **Canada**, **Russia**, **Singapore**, and **Australia** are really close. Employees that are living in these countries earn **slightly over 100k** USD.\n",
    "* **Mexico** and **Turkey** are the lowest ones with below **20k** USD.\n",
    "\n",
    "* **Possible Conclusion**: Salaries in the **US** are highest. This may be due to the fact that the number of big companies is way higher in the **US** than in any other country. Meanwhile, the lowest salaries are in **Turkey** and **Mexico**. This can be related to currency differences. Because we are analyzing salaries in **USD**."
   ]
  },
  {
   "cell_type": "markdown",
   "metadata": {},
   "source": [
    "<div id = 'remote_ratio-salary'\n",
    "     style = \"display: fill;\n",
    "              border-radius: 5px;\n",
    "              background-color: #5997e9;\">\n",
    "    <h3 style = \"padding: 15px; \n",
    "                 color: White;\n",
    "                 text-align:left;\n",
    "                 font-family: Trebuchet MS;\">5.2.6  Remote Ratio and Salary\n",
    "    </h3>\n",
    "</div>"
   ]
  },
  {
   "cell_type": "code",
   "execution_count": 177,
   "metadata": {
    "execution": {
     "iopub.execute_input": "2022-09-02T17:44:03.021087Z",
     "iopub.status.busy": "2022-09-02T17:44:03.020242Z",
     "iopub.status.idle": "2022-09-02T17:44:03.753309Z",
     "shell.execute_reply": "2022-09-02T17:44:03.752077Z",
     "shell.execute_reply.started": "2022-09-02T17:44:03.021053Z"
    }
   },
   "outputs": [],
   "source": [
    "multivariate_plot(x=\"remote_ratio\", xlabel=\"Remote Ratio\")"
   ]
  },
  {
   "cell_type": "markdown",
   "metadata": {},
   "source": [
    "* **Remote** working employees earning the most.\n",
    "* **On-site** work is more valuable than **hybrid** which is quite surprising to me.\n",
    "\n",
    "\n",
    "These results may be correlated with countries. As we learned previously, some countries like the **US** are providing higher salaries. I suspect that, maybe big portion of the **remote** workers are working for the **US** based companies. That's why, I will analyze these ratios with countries to prove my point."
   ]
  },
  {
   "cell_type": "code",
   "execution_count": 178,
   "metadata": {
    "_kg_hide-input": true,
    "_kg_hide-output": true,
    "execution": {
     "iopub.execute_input": "2022-09-02T17:44:03.754924Z",
     "iopub.status.busy": "2022-09-02T17:44:03.754648Z",
     "iopub.status.idle": "2022-09-02T17:44:03.765133Z",
     "shell.execute_reply": "2022-09-02T17:44:03.764067Z",
     "shell.execute_reply.started": "2022-09-02T17:44:03.754900Z"
    }
   },
   "outputs": [],
   "source": [
    "full_remote_by_country = salaries[salaries[\"remote_ratio\"] == \"Remote\"][\"company_location\"].value_counts(ascending=False)\n",
    "most_common_countries = list(full_remote_by_country.head(5).index)\n",
    "remote_with_most_common_country = salaries[salaries[\"company_location\"].isin(most_common_countries)]"
   ]
  },
  {
   "cell_type": "code",
   "execution_count": 179,
   "metadata": {
    "execution": {
     "iopub.execute_input": "2022-09-02T17:44:03.766907Z",
     "iopub.status.busy": "2022-09-02T17:44:03.766577Z",
     "iopub.status.idle": "2022-09-02T17:44:04.633679Z",
     "shell.execute_reply": "2022-09-02T17:44:04.632660Z",
     "shell.execute_reply.started": "2022-09-02T17:44:03.766881Z"
    }
   },
   "outputs": [],
   "source": [
    "multivariate_count_plot(df=remote_with_most_common_country, x=\"remote_ratio\", hue=\"company_location\",\n",
    "                       xlabel=\"Remote Ratio\", hue_label=\"Company Location\", bar_label=True, legend=True, convert=True)"
   ]
  },
  {
   "cell_type": "markdown",
   "metadata": {},
   "source": [
    "* It seems that my suspicions were correct. As we can see, most of the full-remote workers are working for **US** based companies. The **US** is giving the highest salaries in the world. \n",
    "* This analysis also gives us an answer to \"why, **on-site** employees are earning more than **hybrid** ones\" question. **US** based **on-site** employees are more than **US** based **hybrid** employees.\n",
    "\n",
    "\n",
    "* **Possible Conclusion**: Most of the people who want to pursue a **remote** career, chooses **United States**. Also in general, **remote** work pays the most. **Hybrid** may not be a good idea for this current job market."
   ]
  },
  {
   "cell_type": "markdown",
   "metadata": {},
   "source": [
    "<div id = 'company_location-salary'\n",
    "     style = \"display: fill;\n",
    "              border-radius: 5px;\n",
    "              background-color: #5997e9;\">\n",
    "    <h3 style = \"padding: 15px; \n",
    "                 color: White;\n",
    "                 text-align:left;\n",
    "                 font-family: Trebuchet MS;\">5.2.7  Company Location and Salary\n",
    "    </h3>\n",
    "</div>"
   ]
  },
  {
   "cell_type": "code",
   "execution_count": 180,
   "metadata": {
    "execution": {
     "iopub.execute_input": "2022-09-02T17:44:04.635374Z",
     "iopub.status.busy": "2022-09-02T17:44:04.634808Z",
     "iopub.status.idle": "2022-09-02T17:44:05.699241Z",
     "shell.execute_reply": "2022-09-02T17:44:05.698166Z",
     "shell.execute_reply.started": "2022-09-02T17:44:04.635344Z"
    }
   },
   "outputs": [],
   "source": [
    "multivariate_plot(x=\"company_location\", xlabel=\"Company Location\", bar_label=False)"
   ]
  },
  {
   "cell_type": "markdown",
   "metadata": {},
   "source": [
    "I will check if there are any countries with single entry. (Because of what happened previously)"
   ]
  },
  {
   "cell_type": "code",
   "execution_count": 181,
   "metadata": {
    "_kg_hide-input": true,
    "execution": {
     "iopub.execute_input": "2022-09-02T17:44:05.700670Z",
     "iopub.status.busy": "2022-09-02T17:44:05.700437Z",
     "iopub.status.idle": "2022-09-02T17:44:05.711567Z",
     "shell.execute_reply": "2022-09-02T17:44:05.710436Z",
     "shell.execute_reply.started": "2022-09-02T17:44:05.700648Z"
    }
   },
   "outputs": [],
   "source": [
    "sus_company_loc = pd.DataFrame(salaries[\"company_location\"].value_counts(ascending=True).head(10))\n",
    "sus_company_loc.columns = [\"Number of Salary Data\"]\n",
    "sus_company_loc.index.names = [\"Country Code\"]\n",
    "sus_company_loc"
   ]
  },
  {
   "cell_type": "markdown",
   "metadata": {},
   "source": [
    "There are a lot of countries with single or two entries. I will filter them from the dataset because it is not reliable."
   ]
  },
  {
   "cell_type": "code",
   "execution_count": 182,
   "metadata": {
    "_kg_hide-input": true,
    "_kg_hide-output": true,
    "execution": {
     "iopub.execute_input": "2022-09-02T17:44:05.713016Z",
     "iopub.status.busy": "2022-09-02T17:44:05.712735Z",
     "iopub.status.idle": "2022-09-02T17:44:05.726080Z",
     "shell.execute_reply": "2022-09-02T17:44:05.725114Z",
     "shell.execute_reply.started": "2022-09-02T17:44:05.712993Z"
    }
   },
   "outputs": [],
   "source": [
    "salaries_mult_comp_entry = salaries.groupby(\"company_location\").filter(lambda x: len(x) > 2)"
   ]
  },
  {
   "cell_type": "code",
   "execution_count": 183,
   "metadata": {
    "execution": {
     "iopub.execute_input": "2022-09-02T17:44:05.728892Z",
     "iopub.status.busy": "2022-09-02T17:44:05.727640Z",
     "iopub.status.idle": "2022-09-02T17:44:06.517530Z",
     "shell.execute_reply": "2022-09-02T17:44:06.516262Z",
     "shell.execute_reply.started": "2022-09-02T17:44:05.728863Z"
    }
   },
   "outputs": [],
   "source": [
    "multivariate_plot(df=salaries_mult_comp_entry, x=\"company_location\", xlabel=\"Company Location\", bar_label=False)"
   ]
  },
  {
   "cell_type": "markdown",
   "metadata": {},
   "source": [
    "* The **US** takes first place with a salary of more than **140k** USD. The graph is very similar to **Employee Residence**.\n",
    "\n",
    "\n",
    "* **Possible Conclusion**: Companies based in the **United States** pay the highest wages. **Japan**, **Canada**, **Australia**, and **United Arab Emirates** are really close to each other. These results may be correlated with the countries' currencies."
   ]
  },
  {
   "cell_type": "markdown",
   "metadata": {},
   "source": [
    "<div id = 'company_size-salary'\n",
    "     style = \"display: fill;\n",
    "              border-radius: 5px;\n",
    "              background-color: #5997e9;\">\n",
    "    <h3 style = \"padding: 15px; \n",
    "                 color: White;\n",
    "                 text-align:left;\n",
    "                 font-family: Trebuchet MS;\">5.2.8  Company Size and Salary\n",
    "    </h3>\n",
    "</div>"
   ]
  },
  {
   "cell_type": "code",
   "execution_count": 184,
   "metadata": {
    "execution": {
     "iopub.execute_input": "2022-09-02T17:44:06.518927Z",
     "iopub.status.busy": "2022-09-02T17:44:06.518681Z",
     "iopub.status.idle": "2022-09-02T17:44:07.231401Z",
     "shell.execute_reply": "2022-09-02T17:44:07.230113Z",
     "shell.execute_reply.started": "2022-09-02T17:44:06.518904Z"
    }
   },
   "outputs": [],
   "source": [
    "multivariate_plot(x=\"company_size\", xlabel=\"Company Size\")"
   ]
  },
  {
   "cell_type": "code",
   "execution_count": 185,
   "metadata": {
    "_kg_hide-input": true,
    "_kg_hide-output": true,
    "execution": {
     "iopub.execute_input": "2022-09-02T17:44:07.232932Z",
     "iopub.status.busy": "2022-09-02T17:44:07.232550Z",
     "iopub.status.idle": "2022-09-02T17:44:07.241270Z",
     "shell.execute_reply": "2022-09-02T17:44:07.239797Z",
     "shell.execute_reply.started": "2022-09-02T17:44:07.232908Z"
    }
   },
   "outputs": [],
   "source": [
    "large_medium_avg_salary = salaries[salaries[\"company_size\"].isin([\"Large\", \"Medium\"])][\"salary\"].mean()\n",
    "small_avg_salary = salaries[salaries[\"company_size\"] == \"Small\"][\"salary\"].mean()\n",
    "print(f'{(large_medium_avg_salary - small_avg_salary) / small_avg_salary * 100:.2f}%')"
   ]
  },
  {
   "cell_type": "markdown",
   "metadata": {},
   "source": [
    "* **Large** and **mid-size** companies are almost equal in terms of salaries. \n",
    "* When compared to **small-size** companies, **large/mid-size** companies pay approximately 51.73% more.\n",
    "\n",
    "\n",
    "* **Possible Conclusion**: **Large** and **mid-size** companies pay about the same. Meanwhile, **small** companies are giving way less. I assume that, **small** companies have less money; therefore, they can't give too much money to their employees.\n",
    "\n"
   ]
  },
  {
   "cell_type": "markdown",
   "metadata": {},
   "source": [
    "<div id = 'conclusion'\n",
    "     style = \"display: fill;\n",
    "              border-radius: 5px;\n",
    "              background-color: #00356b;\">\n",
    "    <h2 style = \"padding: 15px; \n",
    "                 color: White;\n",
    "                 text-align:left;\n",
    "                 font-family: Trebuchet MS;\">6. Conclusion\n",
    "    </h2>\n",
    "</div>\n",
    "\n",
    "We got some ideas by analyzing this dataset.\n",
    "* Data science jobs are getting more popular.\n",
    "* If an employee wants to get the highest salary possible, **United States** should be their choice. But of course, this analysis is purely based on the salaries. To give an answer to this, we should also analyze the cost of living, health-care, etc.\n",
    "* **Large** and **mid-size** companies are providing more salaries compared to **small** ones.\n",
    "* **Remote** jobs are more popular and also pay the most. This may be due to the pandemic.\n",
    "* Salary increase becomes drastic once you have gained a **senior-level** experience.\n",
    "* **Contract** and **full-time** employments are way to go for **2022**.\n",
    "* **Data Engineers**, **Data Scientists**, and **Machine Learning Engineers** are the most valuable titles (by looking at their average salary).\n",
    "* The majority of the data is based in the **United States**. Since the **United States** pays much higher wages than other countries, I don't believe these average salaries reflect reality. As a result, I would not base my expectations by looking at these average salaries.\n",
    "* After conducting this analysis, I believe that pursuing a data science related job is a good career choice in terms of salary and remote options."
   ]
  }
 ],
 "metadata": {
  "kernelspec": {
   "display_name": "Python 3 (ipykernel)",
   "language": "python",
   "name": "python3"
  },
  "language_info": {
   "codemirror_mode": {
    "name": "ipython",
    "version": 3
   },
   "file_extension": ".py",
   "mimetype": "text/x-python",
   "name": "python",
   "nbconvert_exporter": "python",
   "pygments_lexer": "ipython3",
   "version": "3.10.6"
  }
 },
 "nbformat": 4,
 "nbformat_minor": 4
}
